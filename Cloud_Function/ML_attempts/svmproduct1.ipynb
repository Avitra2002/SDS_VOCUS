{
 "cells": [
  {
   "cell_type": "code",
   "execution_count": 13,
   "metadata": {},
   "outputs": [],
   "source": [
    "import pandas as pd\n",
    "import os\n",
    "import re"
   ]
  },
  {
   "cell_type": "code",
   "execution_count": 14,
   "metadata": {},
   "outputs": [
    {
     "name": "stdout",
     "output_type": "stream",
     "text": [
      "                                            Feedback                 Product\n",
      "0  Please elaborate on why you have selected trm ...  Wealth Managers Wealth\n",
      "1  Please elaborate on why you have selected trm ...  Wealth Managers Wealth\n",
      "2  Please elaborate on why you have selected trm ...  Wealth Managers Wealth\n",
      "3  Please elaborate on why you have selected trm ...  Wealth Managers Wealth\n",
      "4  Please elaborate on why you have selected trm ...  Wealth Managers Wealth\n"
     ]
    }
   ],
   "source": [
    "path = '/Users/joel/Desktop/SUTD /T5/SDS/MY OWN DATA/combined_datanewww.csv'\n",
    "data = pd.read_csv(path)\n",
    "print(data.head())"
   ]
  },
  {
   "cell_type": "code",
   "execution_count": 15,
   "metadata": {},
   "outputs": [],
   "source": [
    "from sklearn.model_selection import train_test_split\n",
    "from sklearn.feature_extraction.text import TfidfVectorizer\n",
    "from sklearn.svm import SVC\n",
    "from sklearn.metrics import classification_report, accuracy_score"
   ]
  },
  {
   "cell_type": "code",
   "execution_count": 23,
   "metadata": {},
   "outputs": [
    {
     "name": "stdout",
     "output_type": "stream",
     "text": [
      "Index(['Feedback', 'Product'], dtype='object')\n",
      "Accuracy: 0.993006993006993\n",
      "\n",
      "Classification Report:\n",
      "                          precision    recall  f1-score   support\n",
      "\n",
      "                  Cards       1.00      1.00      1.00        14\n",
      "              Insurance       1.00      1.00      1.00         3\n",
      "          Secured Loans       1.00      1.00      1.00        28\n",
      "       Trading Platform       1.00      0.92      0.96        12\n",
      "        Unsecured Loans       1.00      1.00      1.00        10\n",
      "Wealth Managers Retail        1.00      1.00      1.00        34\n",
      " Wealth Managers Wealth       0.98      1.00      0.99        42\n",
      "\n",
      "               accuracy                           0.99       143\n",
      "              macro avg       1.00      0.99      0.99       143\n",
      "           weighted avg       0.99      0.99      0.99       143\n",
      "\n"
     ]
    }
   ],
   "source": [
    "\n",
    "\n",
    "def train_model(data):\n",
    "     \n",
    "    print(data.columns)\n",
    "    vectorizer = TfidfVectorizer(stop_words='english')\n",
    "    X = vectorizer.fit_transform(data['Feedback'])\n",
    "    y = data['Product']\n",
    "\n",
    "    X_train, X_remaining, y_train, y_remaining = train_test_split(X, y, test_size=0.3, random_state=42)\n",
    "    X_val, X_test, y_val, y_test = train_test_split(X_remaining, y_remaining, test_size=0.5, random_state=42)\n",
    "    \n",
    "    svm_classifier = SVC(kernel='linear')  \n",
    "    svm_classifier.fit(X_train, y_train)\n",
    "\n",
    "    y_pred = svm_classifier.predict(X_val)\n",
    "\n",
    "\n",
    "    print(\"Accuracy:\", accuracy_score(y_val, y_pred))\n",
    "    print(\"\\nClassification Report:\\n\", classification_report(y_val, y_pred))\n",
    "    return svm_classifier, vectorizer, X_test, y_test\n",
    "\n",
    "\n",
    "\n",
    "svm_classifier, vectorizer , X_test, y_test= train_model(data)"
   ]
  },
  {
   "cell_type": "code",
   "execution_count": 30,
   "metadata": {},
   "outputs": [
    {
     "name": "stdout",
     "output_type": "stream",
     "text": [
      "['Wealth Managers Wealth' 'Wealth Managers Retail ' 'Secured Loans'\n",
      " 'Cards' 'Secured Loans' 'Wealth Managers Retail ' 'Cards' 'Secured Loans'\n",
      " 'Secured Loans' 'Wealth Managers Retail ' 'Secured Loans'\n",
      " 'Trading Platform' 'Wealth Managers Wealth' 'Cards' 'Secured Loans'\n",
      " 'Unsecured Loans' 'Wealth Managers Wealth' 'Wealth Managers Wealth'\n",
      " 'Wealth Managers Retail ' 'Insurance' 'Secured Loans' 'Trading Platform'\n",
      " 'Wealth Managers Retail ' 'Cards' 'Secured Loans' 'Secured Loans'\n",
      " 'Unsecured Loans' 'Secured Loans' 'Secured Loans' 'Secured Loans'\n",
      " 'Wealth Managers Wealth' 'Unsecured Loans' 'Wealth Managers Wealth'\n",
      " 'Wealth Managers Retail ' 'Wealth Managers Wealth'\n",
      " 'Wealth Managers Wealth' 'Secured Loans' 'Insurance' 'Secured Loans'\n",
      " 'Cards' 'Cards' 'Secured Loans' 'Wealth Managers Retail '\n",
      " 'Wealth Managers Wealth' 'Wealth Managers Retail ' 'Secured Loans'\n",
      " 'Trading Platform' 'Cards' 'Cards' 'Wealth Managers Retail ' 'Cards'\n",
      " 'Wealth Managers Retail ' 'Secured Loans' 'Trading Platform' 'Cards'\n",
      " 'Wealth Managers Retail ' 'Secured Loans' 'Unsecured Loans'\n",
      " 'Wealth Managers Wealth' 'Wealth Managers Retail ' 'Secured Loans'\n",
      " 'Secured Loans' 'Cards' 'Wealth Managers Retail '\n",
      " 'Wealth Managers Retail ' 'Cards' 'Wealth Managers Wealth'\n",
      " 'Wealth Managers Wealth' 'Wealth Managers Wealth' 'Secured Loans'\n",
      " 'Wealth Managers Wealth' 'Wealth Managers Wealth' 'Trading Platform'\n",
      " 'Cards' 'Secured Loans' 'Secured Loans' 'Wealth Managers Retail '\n",
      " 'Wealth Managers Wealth' 'Secured Loans' 'Unsecured Loans'\n",
      " 'Secured Loans' 'Wealth Managers Wealth' 'Wealth Managers Wealth'\n",
      " 'Wealth Managers Wealth' 'Secured Loans' 'Wealth Managers Retail '\n",
      " 'Secured Loans' 'Secured Loans' 'Cards' 'Wealth Managers Retail '\n",
      " 'Secured Loans' 'Wealth Managers Wealth' 'Unsecured Loans'\n",
      " 'Unsecured Loans' 'Secured Loans' 'Wealth Managers Retail '\n",
      " 'Wealth Managers Wealth' 'Wealth Managers Retail '\n",
      " 'Wealth Managers Retail ' 'Wealth Managers Retail ' 'Secured Loans'\n",
      " 'Wealth Managers Retail ' 'Secured Loans' 'Secured Loans'\n",
      " 'Wealth Managers Retail ' 'Wealth Managers Wealth' 'Cards' 'Cards'\n",
      " 'Unsecured Loans' 'Wealth Managers Wealth' 'Wealth Managers Retail '\n",
      " 'Unsecured Loans' 'Trading Platform' 'Secured Loans' 'Secured Loans'\n",
      " 'Wealth Managers Wealth' 'Secured Loans' 'Trading Platform'\n",
      " 'Wealth Managers Wealth' 'Wealth Managers Wealth' 'Secured Loans'\n",
      " 'Wealth Managers Wealth' 'Secured Loans' 'Wealth Managers Retail '\n",
      " 'Secured Loans' 'Wealth Managers Retail ' 'Trading Platform'\n",
      " 'Unsecured Loans' 'Wealth Managers Wealth' 'Secured Loans'\n",
      " 'Wealth Managers Wealth' 'Wealth Managers Retail ' 'Secured Loans'\n",
      " 'Secured Loans' 'Insurance' 'Cards' 'Cards' 'Secured Loans'\n",
      " 'Wealth Managers Wealth' 'Wealth Managers Wealth'\n",
      " 'Wealth Managers Wealth' 'Wealth Managers Wealth'\n",
      " 'Wealth Managers Retail ']\n"
     ]
    }
   ],
   "source": [
    "def predict_products(X, svm_classifier):\n",
    "    predictions = svm_classifier.predict(X)\n",
    "    return predictions\n",
    "\n",
    "predictions = predict_products(X_test, svm_classifier)\n",
    "print(predictions)"
   ]
  },
  {
   "cell_type": "code",
   "execution_count": 31,
   "metadata": {},
   "outputs": [
    {
     "name": "stdout",
     "output_type": "stream",
     "text": [
      "Accuracy: 1.0\n",
      "\n",
      "Classification Report:\n",
      "                          precision    recall  f1-score   support\n",
      "\n",
      "                  Cards       1.00      1.00      1.00        18\n",
      "              Insurance       1.00      1.00      1.00         3\n",
      "          Secured Loans       1.00      1.00      1.00        43\n",
      "       Trading Platform       1.00      1.00      1.00         8\n",
      "        Unsecured Loans       1.00      1.00      1.00        10\n",
      "Wealth Managers Retail        1.00      1.00      1.00        28\n",
      " Wealth Managers Wealth       1.00      1.00      1.00        33\n",
      "\n",
      "               accuracy                           1.00       143\n",
      "              macro avg       1.00      1.00      1.00       143\n",
      "           weighted avg       1.00      1.00      1.00       143\n",
      "\n"
     ]
    }
   ],
   "source": [
    "\n",
    "print(\"Accuracy:\", accuracy_score(y_test, predictions))\n",
    "print(\"\\nClassification Report:\\n\", classification_report(y_test, predictions))"
   ]
  },
  {
   "cell_type": "code",
   "execution_count": null,
   "metadata": {},
   "outputs": [],
   "source": []
  }
 ],
 "metadata": {
  "kernelspec": {
   "display_name": "Python 3.9.13 ('base')",
   "language": "python",
   "name": "python3"
  },
  "language_info": {
   "codemirror_mode": {
    "name": "ipython",
    "version": 3
   },
   "file_extension": ".py",
   "mimetype": "text/x-python",
   "name": "python",
   "nbconvert_exporter": "python",
   "pygments_lexer": "ipython3",
   "version": "3.9.13"
  },
  "orig_nbformat": 4,
  "vscode": {
   "interpreter": {
    "hash": "5012c224380e9e16ac3aa776ebb2214372cc19954b6a7a1db6286bea1e08b097"
   }
  }
 },
 "nbformat": 4,
 "nbformat_minor": 2
}
