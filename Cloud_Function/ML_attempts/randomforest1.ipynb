{
 "cells": [
  {
   "cell_type": "code",
   "execution_count": 10,
   "metadata": {},
   "outputs": [],
   "source": [
    "import pandas as pd\n",
    "import os\n",
    "import re"
   ]
  },
  {
   "cell_type": "code",
   "execution_count": 36,
   "metadata": {},
   "outputs": [
    {
     "name": "stdout",
     "output_type": "stream",
     "text": [
      "         RecordedDate     Products Categories Feedback Categories  \\\n",
      "0 2024-04-05 09:21:00  Investments    Vickers         Application   \n",
      "1 2024-04-05 09:23:00  Investments    Vickers     Process Related   \n",
      "2 2024-04-05 09:24:00  Investments     Others              Others   \n",
      "3 2024-04-05 09:26:00  Investments     Others              Others   \n",
      "4 2024-04-05 09:27:00  Investments    Vickers         Application   \n",
      "\n",
      "                                                 Q2b  Q6a  Q6b  Q10  Q19  \n",
      "0         The app is easy to use and straightforward  NaN  NaN  NaN  NaN  \n",
      "1                                   All info linked.  NaN  NaN  NaN  NaN  \n",
      "2                                                NIL  NaN  NaN  NaN  NaN  \n",
      "3                                                 na  NaN  NaN  NaN  NaN  \n",
      "4  I was completely new to this but application w...  NaN  NaN  NaN  NaN  \n"
     ]
    }
   ],
   "source": [
    "path = '/Users/joel/Desktop/SUTD /T5/SDS/MY OWN DATA/combined products done.xlsx'\n",
    "# files =[]\n",
    "# for file in os.listdir(path):\n",
    "#     if file.endswith('csv'):\n",
    "#         file_path = os.path.join(path, file)\n",
    "#         df = pd.read_csv(file_path) \n",
    "#         file2 = file.split('.')[0]\n",
    "#         product_name =re.split(r'\\d', file2, 1)[0].strip() \n",
    "#         files.append(product_name)\n",
    "data = pd.read_excel(path)\n",
    "print(data.head())"
   ]
  },
  {
   "cell_type": "code",
   "execution_count": 38,
   "metadata": {},
   "outputs": [
    {
     "name": "stdout",
     "output_type": "stream",
     "text": [
      "                                       combined_text\n",
      "0  [Investments / Vickers / Application] The app ...\n",
      "1  [Investments / Vickers / Process Related] All ...\n",
      "2                [Investments / Others / Others] NIL\n",
      "3                 [Investments / Others / Others] na\n",
      "4  [Investments / Vickers / Application] I was co...\n"
     ]
    }
   ],
   "source": [
    "\n",
    "data['combined_text'] = '[' + data['Products'].astype(str) + ' / ' + data['Categories'].astype(str) + ' / ' + data['Feedback Categories'].astype(str) + '] ' + data['Q2b'].astype(str)\n",
    "\n",
    "print(data[['combined_text']].head())\n"
   ]
  },
  {
   "cell_type": "code",
   "execution_count": 39,
   "metadata": {},
   "outputs": [
    {
     "name": "stdout",
     "output_type": "stream",
     "text": [
      "[Investments / Others / Others] NIL\n",
      "[Investments / Others / Others] na\n",
      "[Investments / Vickers / Application] I was completely new to this but application was easy to follow and quick to complete \n",
      "[Investments / Vickers / Process Related] it didnt take forever to open an account\n",
      "[Investments / Vickers / Process Related] Everything could be done from my phone and the account was opened within a week.\n",
      "[Investments / Vickers / Process Related] Very fast and easy\n",
      "[Investments / Vickers / Process Related] Set up is very easy\n",
      "[Investments / Vickers / Process Related] Every thing is so simple and easy to understand\n",
      "[Investments / Vickers / Process Related] I feel very easy to check my application status.\n",
      "[Investments / Vickers / Process Related] It's relatively straightforward and simple \n",
      "[Investments / Vickers / Process Related] Information is patchy and it’s all over the place. I have to Google for other sources to get the procedures\n",
      "[Investments / Vickers / Process Related] It is fast and since I had a DBS account, the information require is minimum.\n",
      "[Investments / Vickers / Application] Good layout and intuitive design. \n",
      "[Investments / Vickers / Application] User-friendly interface\n",
      "[Investments / Vickers / Process Related] Does not require a lot of inputs from me and the steps are generally short to complete the process.\n",
      "[Investments / Vickers / Process Related] Can just apply via ibanking. No additional information need to provide\n",
      "[Investments / Others / Others] Steps to apply \n",
      "[Investments / Vickers / Others] Singpass linked\n",
      "[Investments / Vickers / Process Related] Autofill using SingPass. \n",
      "[Investments / Others / Others] None\n",
      "[Investments / Vickers / Process Related] DBS Vickers was very prompt in responding to my trading account application. An acknowledgement was sent after I submitted my application. It took DBS Vicker about a week to approved and let me have access to my account. Very efficient.\n",
      "[nan / nan / nan]  Instructions on the documents and information needed are also clearly stated in the online platform\n",
      "[Investments / Vickers / Process Related] Fields are easy to fill up without much issues\n",
      "[Investments / Vickers / Process Related] Quite easy to apply. As all information are listed on the page.\n",
      "[Investments / Vickers / Process Related] The steps taken to apply is very easy, all I need is to fill up my particulars on the online form, and declare my tax residency, and also the number of fields to fill up is very easy to understand( there are also example to follow), which thus makes my experience of opening the account a pleasant one.\n",
      "[Investments / Vickers / Application] Easy to understand how to trade using the apps platform \n",
      "[Investments / Vickers / Features] Vickers app is not really on par with relevant competition. Secured logging in and features are way outdated. Need more updates and link up with DBS insights, etc\n",
      "[Investments / Vickers / Features] Detailed enough \n",
      "[Investments / Others / Others] -\n",
      "[Investments / Vickers / Process Related] It was easy to apply as most information could be filled with Singpass MyInfo\n",
      "[Investments / Vickers / Process Related] was easy to open it online\n",
      "[Investments / Vickers / Technical Issue/System] Up till now unable to open up my account via the MTrading apps using DBSV User ID? Could also access via digibank User ID login? Called up DBS Vickers on issue but was not resolve. Also unable to use face identification for log in but need to use user ID and password for each log in via MTrading apps? \n",
      "[Investments / Vickers / Process Related] It's all very confusing experience. Called customer service numerous times, and learned that (meaning I was told) DBS and DBS Vickers don't talk to each other. CFPIS-OA, agent bank, multi currency account, and some other terms, all very unintuitive and confusing to new account/user. Even the Buy/Sell limit isn't clear. I thought it's a limit on the account, but now it's back to its maximum, so is it a limit weekly? Monthly? And my trades, thought I used dbsvickers to Buy (successfully) but couldn't find transaction details. Who owns the platform? Maybe time to revamp the webpage.\n",
      "[Investments / Vickers / Process Related] The application form only need relevant info. Easy to fill up. \n",
      "[Investments / Vickers / Process Related] Good\n",
      "[Investments / Vickers / Process Related] In my opinion DBS system is newer and more efficient than other big banks in Singapore. Leave a message feature in digibot is responded faster also\n",
      "[Investments / Vickers / Process Related] Opening of multi currency account was not clear- multiplier account was auto-opened for that purpose but not clear\n",
      "[Investments / Vickers / Features] Quite easy to understand trading features in the app. Advantage of being able to shortlist stocks under watchlist \n",
      "[nan / nan / nan] nan\n",
      "[nan / nan / nan] Application form n document required was also quite easy to understand and great advantage to be able to submit online \n",
      "[Investments / Vickers / Process Related] Good\n",
      "[Investments / Vickers / Process Related] It save my time. I don't need to prepare a lot of document foe the application.\n",
      "[Investments / Vickers / Process Related] Able to open account easily, and get to consult one staff on my concern of items to note when trading \n",
      "[Investments / Vickers / Process Related] I just need to log in to my banking account and Singpass for opening of account, which took less than a week to be approved. It is automatically linked to my SGX. When I had difficulty understanding how to trade and asked for help in digibot, I received assistance within a week. \n",
      "[Investments / Vickers / Process Related] It was fast and fuss free\n",
      "[Investments / Vickers / Process Related] Swift and user friendly\n",
      "[Investments / Others / Others] I only trust DBS\n",
      "[Investments / Vickers / Process Related] Not too many fields\n",
      "[Investments / Vickers / Process Related] A bit shorter would be delighting.\n",
      "[Investments / Others / Others] nil\n",
      "[Investments / Vickers / Process Related] I'm a first time user for the account and as a first timer with no guide I manage to get thru the app by myself..its simple\n",
      "[Investments / Vickers / Application] Better than other bank apps\n",
      "[Investments / Vickers / Process Related] Instructions are easily understood and approval was fast. Application status is updated on the bank's website \n",
      "[nan / nan / nan] nan\n",
      "[DBS Treasure / RM/Staff Related / Staff Related] I had to cancel all my cards due to a possible scamming incident. Your staff by the name Angel (her name rag shows ‘trainee’ at Orchard Branch was very helpful and knowledgeable. I was delighted by how quick she addressed my needs. Truly appreciated.\n",
      "[DBS Treasure / RM/Staff Related / Staff Related] Providing good information relevant to my wealth creation.\n",
      "[DBS Treasure / RM/Staff Related / Staff Related] Very responsive to queries and clarification. Helpful in clarifying my financial planning doubts \n",
      "[DBS Treasure / RM/Staff Related / Staff Related] I am able to reach my RM easily by email or whatsapp\n",
      "[DBS Treasure / RM/Staff Related / Staff Related] RM brought in an insurance specialist who tried to sell me a life plan during our first meeting, even before the RM hear about I want to achieve financially.\n",
      "[nan / nan / nan] nan\n",
      "[nan / nan / nan] RM followed up with an email of the prospectors of the products I requested for, but he sent me the prospectors of the wrong product. He only realise his mistake after I asked him about the documents, when I was about to buy the product.\n",
      "[nan / nan / nan] nan\n",
      "[nan / nan / nan] RM said it was a good time to buy into a bond fund bcos the price “just dropped”. However, he did not explain why it has dropped (bcos the fed did not cut interest rates as anticipated) and he did not explain the risk if I had bought into it at that time (e.g price could drop further as the number of expected interest rate cuts for the year decrease).\n",
      "[DBS Treasure / RM/Staff Related / Staff Related] Because I have yet tap the service of the RM so far\n",
      "[DBS Treasure / RM/Staff Related / Staff Related] Basically, I asked what had happened to my previous RM. Seems like they get reassigned? But not sure why. I expect my RM to be experienced and have tracked record in meeting clients' goals, know my needs, and can be patient to propose and explain suitable products with my interest at heart. \n",
      "[DBS Treasure / RM/Staff Related / Staff Related] Ease of contacting\n",
      "[DBS Treasure / RM/Staff Related / Staff Related] Only interested to sell products. \n",
      "[DBS Treasure / RM/Staff Related / Staff Related] Bella has provided exceptional service and is always extremely prompt whenever I needed her assistance. \n",
      "[nan / nan / nan] Keep it up Bella !\n",
      "[DBS Treasure / RM/Staff Related / Staff Related] Bella is a very personalble RM that I've ever come across; rare gem! Natural affable quality & not motivated by bank's 'target'\n",
      "[nan / nan / nan] nan\n",
      "[nan / nan / nan] She's also easily accessible including outside her working hours; a very industrious RM's trait/s too.\n",
      "[nan / nan / nan] nan\n",
      "[nan / nan / nan] DBS treasures is very very lucky to have her as most RMs are on 'revolving door' attitude\n",
      "[DBS Treasure / RM/Staff Related / Staff Related] Ease of contact, helpful, understand our request on the products that we would like to invest.\n",
      "[DBS Treasure / RM/Staff Related / Staff Related] Desmond has been watching closely my investments and has even advised to change investments that are not doing well and go into better investments . Satisfied with his performance so far . \n",
      "[DBS Treasure / RM/Staff Related / Staff Related] Replied me timely after she had done with her work on hand . After completion of my transfer I ask for a transfer receipt which was given to me promptly. Very efficient RM\n",
      "[DBS Treasure / RM/Staff Related / Staff Related] I need a RM to not change and be able to respond to my requests promptly.\n",
      "[DBS Treasure / RM/Staff Related / Staff Related] it takes time for anyone to understand my situation since the transaction involves multiple factors \n",
      "[DBS Treasure / RM/Staff Related / Staff Related] Desmond has help me look at my portfolio and try to craft it suitable for me so that I don’t not need to monitor.\n",
      "[DBS Treasure / RM/Staff Related / Staff Related] Charmaine is always helpful even if she is on leave. Her professionalism is consistent and I feel that I can rely on her.\n",
      "[DBS Treasure / Others / Others] Na\n",
      "[DBS Treasure / RM/Staff Related / Staff Related] Bella respond to my calls/messages in timely fashion. \n",
      "[nan / nan / nan] nan\n",
      "[nan / nan / nan] Bella follows up on my requests in timely and effective manner. \n",
      "[nan / nan / nan] nan\n",
      "[nan / nan / nan] Bella quickly helped solved my issues when my funds transfer / FX transaction faced some problem. \n",
      "[DBS Treasure / RM/Staff Related / Staff Related] Xue Wei and Vivienne have been very helpful in advising investments which meets my needs\n",
      "[DBS Treasure / RM/Staff Related / Staff Related] Immediate response to my email or whatappps \n",
      "[nan / nan / nan] nan\n",
      "[DBS Treasure / RM/Staff Related / Staff Related] He always responds promptly \n",
      "[DBS Treasure / RM/Staff Related / Staff Related] She will provide me with clear information of recommended product effectively\n",
      "[DBS Treasure / RM/Staff Related / Staff Related] Jason was very professional and helpful. \n",
      "[DBS Treasure / RM/Staff Related / Staff Related] My RM is very responsive whenever I need her help \n",
      "[DBS Treasure / RM/Staff Related / Staff Related] Joseph is able to explain complex financial products to me in a clear and understandable manner. He is patient with my questions, extremely responsive and very knowledgeable about DBS’s various products and services. \n",
      "[DBS Treasure / RM/Staff Related / Staff Related] Hotline arranged for call back but there’s none. Doesn’t answer lanline \n",
      "[DBS Treasure / RM/Staff Related / Staff Related] RM is just a call away to answer my queries. \n",
      "[DBS Treasure / RM/Staff Related / Staff Related] I really appreciate when RM is responsive. \n"
     ]
    }
   ],
   "source": [
    "\n",
    "for i in range(2,100):\n",
    "    print(data.loc[i, 'combined_text'])\n"
   ]
  },
  {
   "cell_type": "code",
   "execution_count": 40,
   "metadata": {},
   "outputs": [],
   "source": [
    "import re\n",
    "\n",
    "def clean_text(text):\n",
    "    text = text.lower()\n",
    "    text = re.sub(r'[^\\w\\s]', '', text)\n",
    "    text = re.sub(r'\\d+', '', text)\n",
    "    return text\n",
    "\n",
    "data['cleaned_text'] = data['combined_text'].apply(clean_text)\n",
    "\n",
    "\n",
    "\n",
    "\n",
    "\n",
    "\n",
    "\n"
   ]
  },
  {
   "cell_type": "code",
   "execution_count": 43,
   "metadata": {},
   "outputs": [
    {
     "name": "stdout",
     "output_type": "stream",
     "text": [
      "Model accuracy on test set: 0.7461538461538462\n"
     ]
    }
   ],
   "source": [
    "from sklearn.model_selection import train_test_split\n",
    "\n",
    "data = data.dropna(subset=['Products', 'Q2b'])\n",
    "\n",
    "X = data[['Q2b', 'Categories', 'Feedback Categories']]\n",
    "y = data['Products']\n",
    "\n",
    "X_train, X_test, y_train, y_test = train_test_split(X, y, test_size=0.25, random_state=42)\n",
    "\n",
    "\n",
    "from sklearn.pipeline import make_pipeline\n",
    "from sklearn.compose import ColumnTransformer\n",
    "from sklearn.feature_extraction.text import TfidfVectorizer\n",
    "from sklearn.preprocessing import OneHotEncoder\n",
    "from sklearn.ensemble import RandomForestClassifier\n",
    "\n",
    "preprocessor = ColumnTransformer(\n",
    "    transformers=[\n",
    "        ('txt', TfidfVectorizer(ngram_range=(1, 3)), 'Q2b'),\n",
    "        ('cat', OneHotEncoder(), ['Categories', 'Feedback Categories'])\n",
    "    ])\n",
    "\n",
    "clf = make_pipeline(preprocessor, RandomForestClassifier())\n",
    "clf.fit(X_train, y_train)\n",
    "print(\"Model accuracy on test set:\", clf.score(X_test, y_test))\n",
    "\n",
    "\n",
    "\n"
   ]
  },
  {
   "cell_type": "code",
   "execution_count": 47,
   "metadata": {},
   "outputs": [
    {
     "name": "stdout",
     "output_type": "stream",
     "text": [
      "130\n",
      "517\n"
     ]
    }
   ],
   "source": [
    "print(len(X_test))\n",
    "print(len(y))"
   ]
  },
  {
   "cell_type": "code",
   "execution_count": 44,
   "metadata": {},
   "outputs": [
    {
     "name": "stdout",
     "output_type": "stream",
     "text": [
      "['DBS Treasures' 'DBS Treasures' 'DBS Treasures' 'DBS Treasures'\n",
      " 'DBS Treasures' 'DBS Treasures' 'DBS Treasures' 'DBS Treasures'\n",
      " 'DBS Treasures' 'DBS Treasures' 'DBS Treasures' 'DBS Treasures'\n",
      " 'DBS Treasures' 'DBS Treasures' 'Investments' 'DBS Treasures'\n",
      " 'DBS Treasures' 'Investments' 'DBS Treasures' 'DBS Treasures'\n",
      " 'DBS Treasures' 'DBS Treasures' 'DBS Treasures' 'DBS Treasures'\n",
      " 'DBS Treasures' 'DBS Treasures' 'DBS Treasures' 'DBS Treasures'\n",
      " 'DBS Treasures' 'DBS Treasures' 'DBS Treasures' 'DBS Treasures'\n",
      " 'DBS Treasures' 'Investments' 'DBS Treasures' 'DBS Treasures'\n",
      " 'DBS Treasures' 'DBS Treasures' 'DBS Treasures' 'DBS Treasures'\n",
      " 'DBS Treasures' 'DBS Treasures' 'DBS Treasures' 'DBS Treasures'\n",
      " 'DBS Treasures' 'DBS Treasures' 'DBS Treasures' 'DBS Treasures'\n",
      " 'DBS Treasures' 'DBS Treasures' 'DBS Treasures' 'DBS Treasures'\n",
      " 'DBS Treasures' 'DBS Treasures' 'DBS Treasures' 'DBS Treasures'\n",
      " 'DBS Treasures' 'DBS Treasures' 'DBS Treasures' 'DBS Treasures'\n",
      " 'DBS Treasures' 'DBS Treasures' 'DBS Treasures' 'DBS Treasures'\n",
      " 'DBS Treasures' 'DBS Treasures' 'Investments' 'DBS Treasures'\n",
      " 'DBS Treasures' 'Investments' 'Investments' 'DBS Treasures' 'Investments'\n",
      " 'DBS Treasures' 'DBS Treasures' 'DBS Treasures' 'DBS Treasures'\n",
      " 'DBS Treasures' 'DBS Treasures' 'DBS Treasures' 'DBS Treasures'\n",
      " 'DBS Treasures' 'DBS Treasures' 'DBS Treasures' 'Investments'\n",
      " 'DBS Treasures' 'Investments' 'DBS Treasures' 'DBS Treasure'\n",
      " 'DBS Treasures' 'DBS Treasures' 'DBS Treasures' 'DBS Treasures'\n",
      " 'DBS Treasures' 'DBS Treasures' 'DBS Treasures' 'DBS Treasures'\n",
      " 'DBS Treasures' 'DBS Treasures' 'DBS Treasures' 'DBS Treasures'\n",
      " 'DBS Treasures' 'DBS Treasures' 'DBS Treasures' 'DBS Treasures'\n",
      " 'DBS Treasures' 'DBS Treasures' 'DBS Treasures' 'DBS Treasures'\n",
      " 'DBS Treasures' 'DBS Treasures' 'DBS Treasures' 'DBS Treasures'\n",
      " 'DBS Treasures' 'DBS Treasures' 'DBS Treasures' 'DBS Treasures'\n",
      " 'DBS Treasures' 'DBS Treasures' 'DBS Treasures' 'DBS Treasures'\n",
      " 'Investments' 'DBS Treasures' 'DBS Treasures' 'DBS Treasures'\n",
      " 'Investments' 'DBS Treasures' 'DBS Treasures' 'DBS Treasures'\n",
      " 'DBS Treasures']\n"
     ]
    }
   ],
   "source": [
    "\n",
    "y_pred = clf.predict(X_test)\n",
    "print(y_pred)\n"
   ]
  },
  {
   "cell_type": "code",
   "execution_count": 50,
   "metadata": {},
   "outputs": [
    {
     "name": "stdout",
     "output_type": "stream",
     "text": [
      "                                                   Q2b         Actual  \\\n",
      "0    Prompt in replying my query and efficient when...  DBS Treasures   \n",
      "1    Darren started the Financial Planning exercise...  DBS Treasures   \n",
      "2                                    Very good returns  DBS Treasures   \n",
      "3    1. Recommend the type of products base on my n...   DBS Treasure   \n",
      "4                Patient and attention to my request.   DBS Treasures   \n",
      "..                                                 ...            ...   \n",
      "125                                    Singpass linked    Investments   \n",
      "126                  Patience and able to give advice   DBS Treasures   \n",
      "127  She attentively checks my current financial st...  DBS Treasures   \n",
      "128  RM brought in an insurance specialist who trie...   DBS Treasure   \n",
      "129                                        No comment   DBS Treasures   \n",
      "\n",
      "         Predicted  \n",
      "0    DBS Treasures  \n",
      "1    DBS Treasures  \n",
      "2    DBS Treasures  \n",
      "3    DBS Treasures  \n",
      "4    DBS Treasures  \n",
      "..             ...  \n",
      "125    Investments  \n",
      "126  DBS Treasures  \n",
      "127  DBS Treasures  \n",
      "128  DBS Treasures  \n",
      "129  DBS Treasures  \n",
      "\n",
      "[130 rows x 3 columns]\n",
      "130\n"
     ]
    }
   ],
   "source": [
    "import pandas as pd\n",
    "results = X_test.copy()\n",
    "results['Actual'] = y_test\n",
    "results['Predicted'] = y_pred\n",
    "results.reset_index(drop=True, inplace=True)\n",
    "print(results[['Q2b', 'Actual', 'Predicted']])\n",
    "print(len(results['Predicted']))\n",
    "\n"
   ]
  },
  {
   "cell_type": "code",
   "execution_count": 52,
   "metadata": {},
   "outputs": [],
   "source": [
    "\n",
    "results.to_csv('/Users/joel/Desktop/SUTD /T5/SDS/MY OWN DATA/Feedback_Predictions.csv', index=False)\n"
   ]
  },
  {
   "cell_type": "code",
   "execution_count": null,
   "metadata": {},
   "outputs": [],
   "source": []
  }
 ],
 "metadata": {
  "kernelspec": {
   "display_name": "Python 3.9.13 ('base')",
   "language": "python",
   "name": "python3"
  },
  "language_info": {
   "codemirror_mode": {
    "name": "ipython",
    "version": 3
   },
   "file_extension": ".py",
   "mimetype": "text/x-python",
   "name": "python",
   "nbconvert_exporter": "python",
   "pygments_lexer": "ipython3",
   "version": "3.9.13"
  },
  "orig_nbformat": 4,
  "vscode": {
   "interpreter": {
    "hash": "5012c224380e9e16ac3aa776ebb2214372cc19954b6a7a1db6286bea1e08b097"
   }
  }
 },
 "nbformat": 4,
 "nbformat_minor": 2
}
