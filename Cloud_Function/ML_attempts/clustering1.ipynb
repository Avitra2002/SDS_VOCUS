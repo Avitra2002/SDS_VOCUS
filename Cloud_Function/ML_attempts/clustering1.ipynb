{
 "cells": [
  {
   "cell_type": "code",
   "execution_count": 11,
   "metadata": {},
   "outputs": [],
   "source": [
    "import pandas as pd\n",
    "import os \n",
    "import re"
   ]
  },
  {
   "cell_type": "code",
   "execution_count": 20,
   "metadata": {},
   "outputs": [],
   "source": [
    "path = \"/Users/joel/Desktop/SUTD /T5/SDS/MY OWN DATA/combined products done.xlsx\"\n"
   ]
  },
  {
   "cell_type": "code",
   "execution_count": 21,
   "metadata": {},
   "outputs": [
    {
     "name": "stdout",
     "output_type": "stream",
     "text": [
      "         RecordedDate     Products Categories Feedback Categories  \\\n",
      "0 2024-04-05 09:21:00  Investments    Vickers         Application   \n",
      "1 2024-04-05 09:23:00  Investments    Vickers     Process Related   \n",
      "2 2024-04-05 09:24:00  Investments     Others              Others   \n",
      "3 2024-04-05 09:26:00  Investments     Others              Others   \n",
      "4 2024-04-05 09:27:00  Investments    Vickers         Application   \n",
      "\n",
      "                                                 Q2b  Q6a  Q6b  Q10  Q19  \n",
      "0         The app is easy to use and straightforward  NaN  NaN  NaN  NaN  \n",
      "1                                   All info linked.  NaN  NaN  NaN  NaN  \n",
      "2                                                NIL  NaN  NaN  NaN  NaN  \n",
      "3                                                 na  NaN  NaN  NaN  NaN  \n",
      "4  I was completely new to this but application w...  NaN  NaN  NaN  NaN  \n",
      "<class 'pandas.core.frame.DataFrame'>\n",
      "RangeIndex: 604 entries, 0 to 603\n",
      "Data columns (total 9 columns):\n",
      " #   Column               Non-Null Count  Dtype         \n",
      "---  ------               --------------  -----         \n",
      " 0   RecordedDate         520 non-null    datetime64[ns]\n",
      " 1   Products             520 non-null    object        \n",
      " 2   Categories           520 non-null    object        \n",
      " 3   Feedback Categories  520 non-null    object        \n",
      " 4   Q2b                  573 non-null    object        \n",
      " 5   Q6a                  127 non-null    object        \n",
      " 6   Q6b                  43 non-null     object        \n",
      " 7   Q10                  42 non-null     object        \n",
      " 8   Q19                  146 non-null    object        \n",
      "dtypes: datetime64[ns](1), object(8)\n",
      "memory usage: 42.6+ KB\n",
      "None\n"
     ]
    }
   ],
   "source": [
    "\n",
    "\n",
    "data = pd.read_excel(path)\n",
    "print(data.head())\n",
    "print(data.info())\n"
   ]
  },
  {
   "cell_type": "code",
   "execution_count": 14,
   "metadata": {},
   "outputs": [
    {
     "name": "stderr",
     "output_type": "stream",
     "text": [
      "[nltk_data] Downloading package punkt to /Users/joel/nltk_data...\n",
      "[nltk_data]   Package punkt is already up-to-date!\n",
      "[nltk_data] Downloading package wordnet to /Users/joel/nltk_data...\n",
      "[nltk_data]   Package wordnet is already up-to-date!\n",
      "[nltk_data] Downloading package stopwords to /Users/joel/nltk_data...\n",
      "[nltk_data]   Package stopwords is already up-to-date!\n",
      "[nltk_data] Downloading package omw-1.4 to /Users/joel/nltk_data...\n",
      "[nltk_data]   Package omw-1.4 is already up-to-date!\n"
     ]
    },
    {
     "data": {
      "text/plain": [
       "True"
      ]
     },
     "execution_count": 14,
     "metadata": {},
     "output_type": "execute_result"
    }
   ],
   "source": [
    "import nltk\n",
    "\n",
    "# Download necessary NLTK resources\n",
    "nltk.download('punkt')  # For tokenization\n",
    "nltk.download('wordnet')  # For lemmatization\n",
    "nltk.download('stopwords')  # For stopwords\n",
    "nltk.download('omw-1.4')\n"
   ]
  },
  {
   "cell_type": "code",
   "execution_count": 28,
   "metadata": {},
   "outputs": [
    {
     "name": "stderr",
     "output_type": "stream",
     "text": [
      "[nltk_data] Downloading package stopwords to /Users/joel/nltk_data...\n",
      "[nltk_data]   Package stopwords is already up-to-date!\n",
      "[nltk_data] Downloading package wordnet to /Users/joel/nltk_data...\n",
      "[nltk_data]   Package wordnet is already up-to-date!\n"
     ]
    },
    {
     "name": "stdout",
     "output_type": "stream",
     "text": [
      "2                                                    NIL\n",
      "3                                                     na\n",
      "4      I was completely new to this but application w...\n",
      "5               it didnt take forever to open an account\n",
      "6      Everything could be done from my phone and the...\n",
      "                             ...                        \n",
      "599    I think as a bit early for our appointment, sh...\n",
      "600    Listen to my needs and recommending the best p...\n",
      "601    We only started to work with Chanel recently s...\n",
      "602                                             Punctual\n",
      "603                   These are important values to me. \n",
      "Name: Q2b, Length: 602, dtype: object\n",
      "                                                   Q2b  cluster\n",
      "0           The app is easy to use and straightforward      NaN\n",
      "1                                     All info linked.      NaN\n",
      "2                                                  NIL      5.0\n",
      "3                                                   na      4.0\n",
      "4    I was completely new to this but application w...      4.0\n",
      "..                                                 ...      ...\n",
      "599  I think as a bit early for our appointment, sh...      1.0\n",
      "600  Listen to my needs and recommending the best p...      1.0\n",
      "601  We only started to work with Chanel recently s...      0.0\n",
      "602                                           Punctual      4.0\n",
      "603                 These are important values to me.       4.0\n",
      "\n",
      "[604 rows x 2 columns]\n"
     ]
    }
   ],
   "source": [
    "from sklearn.feature_extraction.text import TfidfVectorizer\n",
    "from sklearn.cluster import KMeans\n",
    "import nltk\n",
    "from nltk.corpus import stopwords\n",
    "from nltk.stem import WordNetLemmatizer\n",
    "\n",
    "nltk.download('stopwords')\n",
    "nltk.download('wordnet')\n",
    "\n",
    "feedback_texts = data['Q2b'][2:] \n",
    "\n",
    "\n",
    "stop_words = set(stopwords.words('english'))\n",
    "lemmatizer = WordNetLemmatizer()\n",
    "\n",
    "def preprocess(text):\n",
    "    if not isinstance(text, str):\n",
    "        return \"\"\n",
    "    words = nltk.word_tokenize(text.lower())\n",
    "    filtered_words = [lemmatizer.lemmatize(word) for word in words if word.isalnum() and not word in stop_words]\n",
    "    return ' '.join(filtered_words)\n",
    "print(feedback_texts)\n",
    "processed_texts = feedback_texts.apply(preprocess)\n",
    "\n",
    "\n",
    "tfidf_vectorizer = TfidfVectorizer(max_features=1000) \n",
    "tfidf_matrix = tfidf_vectorizer.fit_transform(processed_texts)\n",
    "\n",
    "\n",
    "kmeans = KMeans(n_clusters=6, random_state=42) \n",
    "kmeans.fit(tfidf_matrix)\n",
    "\n",
    "\n",
    "data['cluster'] = [None]*2 + list(kmeans.labels_)  \n",
    "\n",
    "print(data[['Q2b', 'cluster']])\n"
   ]
  },
  {
   "cell_type": "code",
   "execution_count": 29,
   "metadata": {},
   "outputs": [
    {
     "name": "stdout",
     "output_type": "stream",
     "text": [
      "\n",
      "Cluster 0 texts:\n",
      "['Can just apply via ibanking. No additional information need to provide', 'Very responsive to queries and clarification. Helpful in clarifying my financial planning doubts\\xa0', 'I am able to reach my RM easily by email or whatsapp', 'Bella has provided exceptional service and is always extremely prompt whenever I needed her assistance.\\xa0', \"Bella is a very personalble RM that I've ever come across; rare gem! Natural affable quality & not motivated by bank's 'target'\", \"She's also easily accessible including outside her working hours; a very industrious RM's trait/s too.\", 'Bella respond to my calls/messages in timely fashion.\\xa0', 'Bella follows up on my requests in timely and effective manner.\\xa0', 'My RM is very responsive whenever I need her help\\xa0', 'RM is just a call away to answer my queries.\\xa0']\n",
      "\n",
      "Cluster 1 texts:\n",
      "['RM followed up with an email of the prospectors of the products I requested for, but he sent me the prospectors of the wrong product. He only realise his mistake after I asked him about the documents, when I was about to buy the product.', \"Basically, I asked what had happened to my previous RM. Seems like they get reassigned? But not sure why. I expect my RM to be experienced and have tracked record in meeting clients' goals, know my needs, and can be patient to propose and explain suitable products with my interest at heart.\\xa0\", 'Only interested to sell products.\\xa0', 'Ease of contact, helpful, understand our request on the products that we would like to invest.', 'She will provide me with clear information of recommended product effectively', 'Joseph is able to explain complex financial products to me in a clear and understandable manner. He is patient with my questions, extremely responsive and very knowledgeable about DBS’s various products and services.\\xa0', 'Louis is very approachable and kind. He is knowledgeable about many products and provides valuable advice.\\xa0', 'Ellen has been actively advising me on what product will benefit my portfolio\\xa0', 'I wasn’t sure what products to invest. Luckily my RM was able to recommend products that match my investment objectives and risk appetitie. To help me better decide, my RM further provided valuable insights on the recommended products that did eventually helped me to make an informed decision that I felt confident about. Lastly, the speed of service was fast and exceeded my expectation. These experience gave me the confidence and trust that I could rely on my RM for any investment needs/advise.\\xa0', 'The products recommended are good within my risk appetite\\xa0 My RM also provides valuable suggestion in helping me to grow my investment portfolio.']\n",
      "\n",
      "Cluster 2 texts:\n",
      "['Vickers app is not really on par with relevant competition. Secured logging in and features are way outdated. Need more updates and link up with DBS insights, etc', 'Replied me timely after she had done with her work on hand . After completion of my transfer I ask for a transfer receipt which was given to me promptly. Very efficient RM', 'I need a RM to not change and be able to respond to my requests promptly.', 'He always responds promptly\\xa0', 'I have received useful suggestion which I purchased for this period of my life. I have previously not heard of such financial / insurance products before. It is a game changer to my family life.', 'Also my intention was to do aome financial planning end of last year , she kept up with her worda and update me regularly thia year.', 'Travis understands my risk threshold. He takes into account the stage of my life right now and recommends appropriate offerings that support my current needs and future goals. Travis builds trust and i feel comfortable reaching out to him for assistance if i have any questions. He is a STAR!', 'Answered emails promptly\\xa0', 'Patrick has been following up on some of the requests that I put forth. Providing me with relevant insights and updates on my portfolio.\\xa0', 'Received emails on updates on my Digiportfolio saveup performance\\xa0']\n",
      "\n",
      "Cluster 3 texts:\n",
      "['Good layout and intuitive design.\\xa0', 'Good', 'Good', 'Providing good information relevant to my wealth creation.', 'Able to provide clarity of my question and solutions to my questions. Good services provided\\xa0', \"He or even the prv ones are as good as they don't exist\", 'Samuel has been reaching out to me to offer advice on investments for good returns on my savings funds', \"Geet understands my needs perfectly and gives me Swift and concise advice that's best for me. She is very intelligent and I can have good conversation with her\", 'He is available. Able to handle my investments. Very knowledgeable and pro-active. Very good representative of DBS.\\xa0', 'Daniel explain the investment to me in detail and give me time to think and answer my queries with quick good respond']\n",
      "\n",
      "Cluster 4 texts:\n",
      "['na', 'I was completely new to this but application was easy to follow and quick to complete\\xa0', 'it didnt take forever to open an account', 'Everything could be done from my phone and the account was opened within a week.', 'Very fast and easy', 'Set up is very easy', 'Every thing is so simple and easy to understand', 'I feel very easy to check my application status.', \"It's relatively straightforward and simple\\xa0\", 'Information is patchy and it’s all over the place. I have to Google for other sources to get the procedures']\n"
     ]
    }
   ],
   "source": [
    "# Print out texts in each cluster to manually review them\n",
    "for i in range(5):  # Adjust based on the number of clusters you have\n",
    "    print(f\"\\nCluster {i} texts:\")\n",
    "    print(data.loc[data['cluster'] == i, 'Q2b'].tolist()[:10])  # Print first 10 entries for brevity\n",
    "\n",
    "# Assuming you've examined the clusters, you can now assign labels\n",
    "# cluster_labels = {\n",
    "#     0: '',\n",
    "#     1: '',\n",
    "#     2: '',\n",
    "#     3: '',\n",
    "#     4: ''\n",
    "# }\n",
    "\n",
    "# # Map the labels to your data\n",
    "# data['cluster_label'] = data['cluster'].map(cluster_labels)\n",
    "# print(data[['Q2b', 'cluster_label']].head(10))\n"
   ]
  },
  {
   "cell_type": "markdown",
   "metadata": {},
   "source": [
    "Cluster 2 : application process, app good "
   ]
  },
  {
   "cell_type": "markdown",
   "metadata": {},
   "source": []
  }
 ],
 "metadata": {
  "kernelspec": {
   "display_name": "Python 3.9.13 ('base')",
   "language": "python",
   "name": "python3"
  },
  "language_info": {
   "codemirror_mode": {
    "name": "ipython",
    "version": 3
   },
   "file_extension": ".py",
   "mimetype": "text/x-python",
   "name": "python",
   "nbconvert_exporter": "python",
   "pygments_lexer": "ipython3",
   "version": "3.9.13"
  },
  "orig_nbformat": 4,
  "vscode": {
   "interpreter": {
    "hash": "5012c224380e9e16ac3aa776ebb2214372cc19954b6a7a1db6286bea1e08b097"
   }
  }
 },
 "nbformat": 4,
 "nbformat_minor": 2
}
